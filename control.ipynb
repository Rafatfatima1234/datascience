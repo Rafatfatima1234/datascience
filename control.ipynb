{
 "cells": [
  {
   "cell_type": "markdown",
   "metadata": {},
   "source": [
    "## CONTROL\n",
    "\n",
    "✔ conditions - if            ✔(single condition based prog. used with if only)\n",
    "               if else       ✔(complete condition based prog. used with if else both)\n",
    "               if elif else     ✔(multiple condition based prog. used with if elif and else)\n",
    "\n",
    "✔ loop\n",
    "## we can't use { } for bocks in python so indentation is introduced\n",
    "## : shows starting of the block\n"
   ]
  },
  {
   "cell_type": "markdown",
   "metadata": {},
   "source": [
    "## if\n",
    "if expression :\n",
    "     statement 1\n",
    "     statement 2\n",
    "     ...\n",
    "     statement n"
   ]
  },
  {
   "cell_type": "code",
   "execution_count": 15,
   "metadata": {},
   "outputs": [
    {
     "name": "stdout",
     "output_type": "stream",
     "text": [
      "Number is even\n",
      "the end\n"
     ]
    }
   ],
   "source": [
    "x=40\n",
    "if x%2==0 : \n",
    "    print(\"Number is even\")\n",
    "   \n",
    "print(\"the end\") "
   ]
  },
  {
   "cell_type": "code",
   "execution_count": 18,
   "metadata": {},
   "outputs": [
    {
     "name": "stdout",
     "output_type": "stream",
     "text": [
      "Number is not numeric\n"
     ]
    }
   ],
   "source": [
    "num=input(\"Enter a number\" )\n",
    "if num.isnumeric() :\n",
    "    print(\"Number is numeric so good job dude\")\n",
    "else:\n",
    "    print(\"Number is not numeric\")"
   ]
  },
  {
   "cell_type": "code",
   "execution_count": 21,
   "metadata": {},
   "outputs": [
    {
     "name": "stdout",
     "output_type": "stream",
     "text": [
      "Number is not numeric\n"
     ]
    }
   ],
   "source": [
    "num=input(\"enter a number\")\n",
    "if num.isnumeric():\n",
    "    print(\"Number is numeric\")\n",
    "    num=int(num) ##input must be int it checks that it does not work with float\n",
    "else:\n",
    "    print(\"Number is not numeric\")    "
   ]
  },
  {
   "cell_type": "code",
   "execution_count": 30,
   "metadata": {},
   "outputs": [],
   "source": [
    "username=input(\"enter name\")\n",
    "email=input(\"enter mail\")\n",
    "password=input(\"enter password\")\n",
    "if username==\"Rafat\" :\n",
    "    if email==\"ak6583655@gmail.com\" :\n",
    "        if password==\"abcd\" :\n",
    "            print(\"welcome programmer Rafat\")\n",
    "        else:\n",
    "            print(\"wrong password\")\n",
    "    else:\n",
    "        print(\"wrong mail\")\n",
    "else:(\"wrong name\")                    "
   ]
  },
  {
   "cell_type": "code",
   "execution_count": 39,
   "metadata": {},
   "outputs": [
    {
     "ename": "SyntaxError",
     "evalue": "invalid syntax (1985233996.py, line 4)",
     "output_type": "error",
     "traceback": [
      "\u001b[1;36m  Input \u001b[1;32mIn [39]\u001b[1;36m\u001b[0m\n\u001b[1;33m    if(username==\"Rafat\"&&email==\"ak6583655@gmail.com\" && password==\"abcd123\") :\u001b[0m\n\u001b[1;37m                         ^\u001b[0m\n\u001b[1;31mSyntaxError\u001b[0m\u001b[1;31m:\u001b[0m invalid syntax\n"
     ]
    }
   ],
   "source": [
    "username=input(\"enter name\")\n",
    "email=input(\"enter mail\")\n",
    "password=input(\"enter password\")\n",
    "if(username==\"Rafat\"&&email==\"ak6583655@gmail.com\" && password==\"abcd123\") :\n",
    "    print(\"welcome Rafat the programmer\")\n",
    "else:\n",
    "    print(\"Enter the details properly\")    "
   ]
  },
  {
   "cell_type": "code",
   "execution_count": 38,
   "metadata": {},
   "outputs": [
    {
     "name": "stdout",
     "output_type": "stream",
     "text": [
      "Wrong name\n"
     ]
    }
   ],
   "source": [
    "username=input(\"enter name\")\n",
    "email=input(\"enter mail\")\n",
    "password=input(\"enter password\")\n",
    "if username !=\"Rafat\":\n",
    "    print(\"Wrong name\")\n",
    "elif email !=\"ak6583655@gmail.com\":\n",
    "    print(\"wrong mail\")\n",
    "elif password !=\"abcd\":\n",
    "    print(\"wrong password\")\n",
    "else:\n",
    "    print(\"welcome Rafat fatima\")    "
   ]
  },
  {
   "cell_type": "markdown",
   "metadata": {},
   "source": [
    "## WAP to calculate the grade"
   ]
  },
  {
   "cell_type": "code",
   "execution_count": 70,
   "metadata": {},
   "outputs": [
    {
     "ename": "IndentationError",
     "evalue": "unindent does not match any outer indentation level (<tokenize>, line 7)",
     "output_type": "error",
     "traceback": [
      "\u001b[1;36m  File \u001b[1;32m<tokenize>:7\u001b[1;36m\u001b[0m\n\u001b[1;33m    elif marks>= 80:\u001b[0m\n\u001b[1;37m    ^\u001b[0m\n\u001b[1;31mIndentationError\u001b[0m\u001b[1;31m:\u001b[0m unindent does not match any outer indentation level\n"
     ]
    }
   ],
   "source": [
    "marks=input(\"enter marks\")\n",
    "if not marks.isnumeric():\n",
    "    print(\"invalid marks\")\n",
    "else    \n",
    "  if marks>= 90:\n",
    "      print(\"grade is A\")\n",
    "   elif marks>= 80:\n",
    "         print(\"grade is B\")\n",
    "   elif marks>=  70:\n",
    "         print(\"grade is C\")\n",
    "   elif(marks>= 60) :\n",
    "         print(\"grade is D\")\n",
    " else:\n",
    "      printf(\"fail\")                       "
   ]
  },
  {
   "cell_type": "code",
   "execution_count": null,
   "metadata": {},
   "outputs": [],
   "source": []
  },
  {
   "cell_type": "code",
   "execution_count": null,
   "metadata": {},
   "outputs": [],
   "source": []
  }
 ],
 "metadata": {
  "kernelspec": {
   "display_name": "Python 3.9.12 ('base')",
   "language": "python",
   "name": "python3"
  },
  "language_info": {
   "codemirror_mode": {
    "name": "ipython",
    "version": 3
   },
   "file_extension": ".py",
   "mimetype": "text/x-python",
   "name": "python",
   "nbconvert_exporter": "python",
   "pygments_lexer": "ipython3",
   "version": "3.9.12"
  },
  "orig_nbformat": 4,
  "vscode": {
   "interpreter": {
    "hash": "5b6002d1e928962cd19dde4287e8a81266a3dfa22c12012df96bb19a6e27b9c0"
   }
  }
 },
 "nbformat": 4,
 "nbformat_minor": 2
}

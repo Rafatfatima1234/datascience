{
 "cells": [
  {
   "cell_type": "code",
   "execution_count": 1,
   "metadata": {},
   "outputs": [
    {
     "name": "stdout",
     "output_type": "stream",
     "text": [
      "\n"
     ]
    }
   ],
   "source": [
    "print()"
   ]
  },
  {
   "cell_type": "markdown",
   "metadata": {},
   "source": [
    "*raw code is only for developers*"
   ]
  },
  {
   "cell_type": "code",
   "execution_count": 10,
   "metadata": {},
   "outputs": [
    {
     "data": {
      "text/plain": [
       "9"
      ]
     },
     "execution_count": 10,
     "metadata": {},
     "output_type": "execute_result"
    }
   ],
   "source": [
    "2+3+4"
   ]
  },
  {
   "cell_type": "markdown",
   "metadata": {},
   "source": [
    "*no need to add qoutes in numer values*\n"
   ]
  },
  {
   "cell_type": "code",
   "execution_count": 2,
   "metadata": {},
   "outputs": [
    {
     "name": "stdout",
     "output_type": "stream",
     "text": [
      "1 2 3 4 5\n"
     ]
    }
   ],
   "source": [
    "print(1,2,3,4,5)"
   ]
  },
  {
   "cell_type": "code",
   "execution_count": 3,
   "metadata": {},
   "outputs": [
    {
     "name": "stdout",
     "output_type": "stream",
     "text": [
      "this is python data science\n",
      "we are going to code\n",
      "thats it!\n"
     ]
    }
   ],
   "source": [
    "print(\"this is python data science\")\n",
    "print('we are going to code')\n",
    "print('thats it!')"
   ]
  },
  {
   "cell_type": "code",
   "execution_count": 4,
   "metadata": {},
   "outputs": [
    {
     "name": "stdout",
     "output_type": "stream",
     "text": [
      "this is datascience and we are learning its secrets and we are going to learn\n"
     ]
    }
   ],
   "source": [
    "print('this is datascience and we are learning its secrets and we are going to learn')"
   ]
  },
  {
   "cell_type": "code",
   "execution_count": 5,
   "metadata": {},
   "outputs": [
    {
     "name": "stdout",
     "output_type": "stream",
     "text": [
      "this is datascience\n",
      "we are learning its secrets\n",
      "and we are learning it\n"
     ]
    }
   ],
   "source": [
    "print('this is datascience\\nwe are learning its secrets\\nand we are learning it')"
   ]
  },
  {
   "cell_type": "code",
   "execution_count": 6,
   "metadata": {},
   "outputs": [
    {
     "name": "stdout",
     "output_type": "stream",
     "text": [
      "The Zen of Python, by Tim Peters\n",
      "\n",
      "Beautiful is better than ugly.\n",
      "Explicit is better than implicit.\n",
      "Simple is better than complex.\n",
      "Complex is better than complicated.\n",
      "Flat is better than nested.\n",
      "Sparse is better than dense.\n",
      "Readability counts.\n",
      "Special cases aren't special enough to break the rules.\n",
      "Although practicality beats purity.\n",
      "Errors should never pass silently.\n",
      "Unless explicitly silenced.\n",
      "In the face of ambiguity, refuse the temptation to guess.\n",
      "There should be one-- and preferably only one --obvious way to do it.\n",
      "Although that way may not be obvious at first unless you're Dutch.\n",
      "Now is better than never.\n",
      "Although never is often better than *right* now.\n",
      "If the implementation is hard to explain, it's a bad idea.\n",
      "If the implementation is easy to explain, it may be a good idea.\n",
      "Namespaces are one honking great idea -- let's do more of those!\n"
     ]
    }
   ],
   "source": [
    "import this"
   ]
  },
  {
   "cell_type": "markdown",
   "metadata": {},
   "source": [
    "*use 3 quotes and understand automatically understand \\n when press enter"
   ]
  },
  {
   "cell_type": "code",
   "execution_count": null,
   "metadata": {},
   "outputs": [],
   "source": [
    "print(''' this is python data science\n",
    "this is secret programming course\n",
    "thats it!)"
   ]
  },
  {
   "cell_type": "markdown",
   "metadata": {},
   "source": [
    "sep=seperstion symbol\n",
    "emoji=windows+."
   ]
  },
  {
   "cell_type": "code",
   "execution_count": 13,
   "metadata": {},
   "outputs": [
    {
     "name": "stdout",
     "output_type": "stream",
     "text": [
      "1❤🛺2❤🛺3❤🛺4❤🛺5❤🛺6\n"
     ]
    }
   ],
   "source": [
    "print(1,2,3,4,5,6,sep='❤🛺')"
   ]
  },
  {
   "cell_type": "markdown",
   "metadata": {},
   "source": [
    "each print adds line change character automaically at the end \n",
    "this setting called end"
   ]
  },
  {
   "cell_type": "code",
   "execution_count": 14,
   "metadata": {},
   "outputs": [
    {
     "name": "stdout",
     "output_type": "stream",
     "text": [
      "this\n",
      "is \n",
      "python\n"
     ]
    }
   ],
   "source": [
    "print('this')\n",
    "print('is ')\n",
    "print('python')"
   ]
  },
  {
   "cell_type": "markdown",
   "metadata": {},
   "source": [
    "end=\"whatever we want\" does not change line but add the symbol which wee have \n",
    "gave it "
   ]
  },
  {
   "cell_type": "code",
   "execution_count": 17,
   "metadata": {},
   "outputs": [
    {
     "name": "stdout",
     "output_type": "stream",
     "text": [
      "this is💕python💕"
     ]
    }
   ],
   "source": [
    "print(\"this\",end=' ')\n",
    "print('is',end=\"💕\")\n",
    "print('python',end='💕')"
   ]
  },
  {
   "cell_type": "markdown",
   "metadata": {},
   "source": [
    "variables in python :\n",
    "age=18              colour2=red\n",
    "name=bob           is_sleeping=false\n",
    "size=no of characters in variable\n",
    "no size of int as they are actually in digits\n",
    "\n",
    "\n"
   ]
  },
  {
   "cell_type": "code",
   "execution_count": 24,
   "metadata": {},
   "outputs": [],
   "source": [
    "age=18\n",
    "name='Nobita'\n",
    "colour2='red'\n",
    "is_married=True"
   ]
  },
  {
   "cell_type": "markdown",
   "metadata": {},
   "source": [
    "we can over write the variables\n",
    "datatypes can be changed automatically by changing the value of a variable\n",
    "# Integer\n",
    " any int value which is pos or neg\n",
    "can be of any leength limited by memory avalaible\n",
    "we use type()function to know which class a variable or a value belongs to"
   ]
  },
  {
   "cell_type": "code",
   "execution_count": 20,
   "metadata": {},
   "outputs": [],
   "source": [
    "name='Rafat and Ilma'"
   ]
  },
  {
   "cell_type": "markdown",
   "metadata": {},
   "source": [
    "# del \n",
    "keyword used to delete the variables from memory"
   ]
  },
  {
   "cell_type": "code",
   "execution_count": 30,
   "metadata": {},
   "outputs": [],
   "source": [
    "del age"
   ]
  },
  {
   "cell_type": "markdown",
   "metadata": {},
   "source": [
    "9 types of datatypes "
   ]
  },
  {
   "cell_type": "code",
   "execution_count": 25,
   "metadata": {},
   "outputs": [],
   "source": [
    "x=65\n",
    "y=4532566\n",
    "z=464656986563535469898656865668965965668659876545"
   ]
  },
  {
   "cell_type": "markdown",
   "metadata": {},
   "source": [
    "# float\n",
    "decimal values \n",
    "scientific representation 'e' to indicate the power of 10 \n",
    "type()"
   ]
  },
  {
   "cell_type": "code",
   "execution_count": 29,
   "metadata": {},
   "outputs": [
    {
     "name": "stdout",
     "output_type": "stream",
     "text": [
      "23.43\n",
      "22000000000.0\n"
     ]
    }
   ],
   "source": [
    "print(23.43)\n",
    "print(2.2e10)\n"
   ]
  },
  {
   "cell_type": "code",
   "execution_count": null,
   "metadata": {},
   "outputs": [],
   "source": [
    "x=43.56\n",
    "y=45.98e100"
   ]
  },
  {
   "cell_type": "markdown",
   "metadata": {},
   "source": [
    "# string \n",
    "✔ can be in  ' ' 💕 \" \"\n",
    "# multiline strings \n",
    "✔ using ''' three qoutes"
   ]
  },
  {
   "cell_type": "code",
   "execution_count": 31,
   "metadata": {},
   "outputs": [],
   "source": [
    "name=\"rafat fatima\"\n",
    "colour=\"pink\"\n",
    "college='KMCLU'"
   ]
  },
  {
   "cell_type": "markdown",
   "metadata": {},
   "source": [
    "# Booleans \n",
    "✔ two values True or False"
   ]
  },
  {
   "cell_type": "code",
   "execution_count": 32,
   "metadata": {},
   "outputs": [],
   "source": [
    "pg=True\n",
    "ug=True\n",
    "phd=False"
   ]
  },
  {
   "cell_type": "markdown",
   "metadata": {},
   "source": [
    "# None \n",
    "✔ dont want store anything but create an empty variable\n",
    "# List\n",
    "✔ items in list not to be of samedatatype\n",
    "✔ seperatedd by comma and within[]\n",
    "✔ part of python collection or datastructures \n",
    "✔ mutable or changeable during runtime"
   ]
  },
  {
   "cell_type": "code",
   "execution_count": 34,
   "metadata": {},
   "outputs": [],
   "source": [
    "x=None\n",
    "a=[1,2,3,4,5,6,7]\n",
    "val=[1,2,'python']"
   ]
  },
  {
   "cell_type": "markdown",
   "metadata": {},
   "source": [
    "# Tuples\n",
    "✔ unmutable\n",
    "✔ faster and written within()"
   ]
  },
  {
   "cell_type": "code",
   "execution_count": 35,
   "metadata": {},
   "outputs": [],
   "source": [
    "a=(2,3,4,5,6)\n",
    "b=(1,2,'python')"
   ]
  },
  {
   "cell_type": "markdown",
   "metadata": {},
   "source": [
    "# sets \n",
    "✔ unordered collection of unique items\n",
    "✔ within{}\n",
    "✔ automatic remove duplicate items\n",
    "# Dictionary\n",
    "✔ orderred collection of key-value pairs(3.7)\n",
    "✔ items are of differet or may be of same type\n",
    "✔ key and value can e of any type\n",
    "✔ within{}with each item being a pair in the form key:value"
   ]
  },
  {
   "cell_type": "code",
   "execution_count": 40,
   "metadata": {},
   "outputs": [],
   "source": [
    "a={4,3,2}\n",
    "var={1,2,3,4,'python'}\n",
    "car_info = {\n",
    "    \"brand\":\"ford\",\n",
    "    \"model\":\"mustang\"\n",
    "}"
   ]
  },
  {
   "cell_type": "markdown",
   "metadata": {},
   "source": [
    "# input in python\n",
    "name=input(\"what is you name\")\n",
    "city=(\"which city do you live\")"
   ]
  },
  {
   "cell_type": "code",
   "execution_count": 41,
   "metadata": {},
   "outputs": [
    {
     "name": "stdout",
     "output_type": "stream",
     "text": [
      "so according to you\n",
      "you are rafat\n",
      "you live in lucknow\n"
     ]
    }
   ],
   "source": [
    "name=input(\"what is your name\")\n",
    "city=input(\"which city do you live\")\n",
    "print(\"so according to you\")\n",
    "print(\"you are\",name)\n",
    "print('you live in',city)"
   ]
  }
 ],
 "metadata": {
  "kernelspec": {
   "display_name": "Python 3.9.12 ('base')",
   "language": "python",
   "name": "python3"
  },
  "language_info": {
   "codemirror_mode": {
    "name": "ipython",
    "version": 3
   },
   "file_extension": ".py",
   "mimetype": "text/x-python",
   "name": "python",
   "nbconvert_exporter": "python",
   "pygments_lexer": "ipython3",
   "version": "3.9.12"
  },
  "orig_nbformat": 4,
  "vscode": {
   "interpreter": {
    "hash": "5b6002d1e928962cd19dde4287e8a81266a3dfa22c12012df96bb19a6e27b9c0"
   }
  }
 },
 "nbformat": 4,
 "nbformat_minor": 2
}

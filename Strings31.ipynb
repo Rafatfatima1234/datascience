{
 "cells": [
  {
   "cell_type": "markdown",
   "metadata": {},
   "source": [
    "## STRINGS\n",
    "✔ strings are the sequence of characters\n",
    "✔ a string is a sequence of unicode characters\n",
    "✔ unicode supports all types of characters approx 16M characters\n",
    "✔ all new languages support uniocode except c programming it supports the ASCII\n",
    "✔ created by enclosing characters inside a \" \"or' 'and \"'   \"' used for multilines"
   ]
  },
  {
   "cell_type": "markdown",
   "metadata": {},
   "source": [
    "✔We can access individual characters using indexing\n",
    "✔indexing may be positive starts from zero and negative starts from -1  \n",
    "✔ both positive and negative indexing supported only in python language"
   ]
  },
  {
   "cell_type": "code",
   "execution_count": 3,
   "metadata": {},
   "outputs": [
    {
     "name": "stdout",
     "output_type": "stream",
     "text": [
      "f\n"
     ]
    }
   ],
   "source": [
    "list=['R','a','f','a','t']\n",
    "print(list[-3])"
   ]
  },
  {
   "cell_type": "code",
   "execution_count": 4,
   "metadata": {},
   "outputs": [
    {
     "ename": "IndexError",
     "evalue": "list index out of range",
     "output_type": "error",
     "traceback": [
      "\u001b[1;31m---------------------------------------------------------------------------\u001b[0m",
      "\u001b[1;31mIndexError\u001b[0m                                Traceback (most recent call last)",
      "\u001b[1;32mc:\\Users\\HP\\Documents\\datasciencepy\\Strings31.ipynb Cell 4\u001b[0m in \u001b[0;36m<cell line: 2>\u001b[1;34m()\u001b[0m\n\u001b[0;32m      <a href='vscode-notebook-cell:/c%3A/Users/HP/Documents/datasciencepy/Strings31.ipynb#ch0000003?line=0'>1</a>\u001b[0m \u001b[39mlist\u001b[39m\u001b[39m=\u001b[39m[\u001b[39m'\u001b[39m\u001b[39mf\u001b[39m\u001b[39m'\u001b[39m,\u001b[39m'\u001b[39m\u001b[39ma\u001b[39m\u001b[39m'\u001b[39m,\u001b[39m'\u001b[39m\u001b[39mt\u001b[39m\u001b[39m'\u001b[39m,\u001b[39m'\u001b[39m\u001b[39mi\u001b[39m\u001b[39m'\u001b[39m,\u001b[39m'\u001b[39m\u001b[39mm\u001b[39m\u001b[39m'\u001b[39m,\u001b[39m'\u001b[39m\u001b[39ma\u001b[39m\u001b[39m'\u001b[39m]\n\u001b[1;32m----> <a href='vscode-notebook-cell:/c%3A/Users/HP/Documents/datasciencepy/Strings31.ipynb#ch0000003?line=1'>2</a>\u001b[0m \u001b[39mprint\u001b[39m(\u001b[39mlist\u001b[39;49m[\u001b[39m-\u001b[39;49m\u001b[39m10\u001b[39;49m])\n",
      "\u001b[1;31mIndexError\u001b[0m: list index out of range"
     ]
    }
   ],
   "source": [
    "list=['f','a','t','i','m','a']\n",
    "print(list[-10])"
   ]
  },
  {
   "cell_type": "markdown",
   "metadata": {},
   "source": [
    "# when index no is not found then index out of range error will come"
   ]
  },
  {
   "cell_type": "markdown",
   "metadata": {},
   "source": [
    "## SLICE\n",
    "✔ if s is a stirng an expression of the form s[m:n]\n",
    "returns the portion from s strating from m and before n bcs stops at n means it does not include the position n"
   ]
  },
  {
   "cell_type": "code",
   "execution_count": 8,
   "metadata": {},
   "outputs": [
    {
     "name": "stdout",
     "output_type": "stream",
     "text": [
      "TFA\n",
      "RAF\n"
     ]
    }
   ],
   "source": [
    "s='RAFATFATIMAZZ'### index values\n",
    "slice=s[4:7]\n",
    "print(slice)\n",
    "slice1=s[0:3]\n",
    "print(slice1)"
   ]
  },
  {
   "cell_type": "markdown",
   "metadata": {},
   "source": [
    "## If you omit the first index ,the slice starts at the begining of the string\n",
    "## thus [:m] or [0:m] are same it gives the value starts from 0 and end at one position before m\n",
    "we can also give range in negative"
   ]
  },
  {
   "cell_type": "markdown",
   "metadata": {},
   "source": [
    "## if you omit the second index as in s[n:]\n",
    "the slice extends from the first index n through the end of the string\n",
    "this is nice,concise alternative to the more \n",
    "cumbersome s[n:len[s]]"
   ]
  },
  {
   "cell_type": "code",
   "execution_count": 11,
   "metadata": {},
   "outputs": [
    {
     "name": "stdout",
     "output_type": "stream",
     "text": [
      "PODIUM\n",
      "PODIUM\n"
     ]
    }
   ],
   "source": [
    "s='DIGIPODIUM'\n",
    "slice1=s[4:len(s)]\n",
    "print(slice1)\n",
    "slice2=s[4:]\n",
    "print(slice2)"
   ]
  },
  {
   "cell_type": "markdown",
   "metadata": {},
   "source": [
    "## chr()\n",
    "convert integer to string character\n",
    "## ord()\n",
    "convert a chaarcter to integer\n",
    "## len()\n",
    "returns the length of string\n",
    "## str()\n",
    "converts items to string"
   ]
  },
  {
   "cell_type": "code",
   "execution_count": 12,
   "metadata": {},
   "outputs": [
    {
     "name": "stdout",
     "output_type": "stream",
     "text": [
      "A\n",
      "ऽ\n",
      "き\n"
     ]
    }
   ],
   "source": [
    "x=chr(65)\n",
    "print(x)\n",
    "x=chr(2365)\n",
    "print(x)\n",
    "x=chr(12365)\n",
    "print(x)"
   ]
  }
 ],
 "metadata": {
  "kernelspec": {
   "display_name": "Python 3.9.12 ('base')",
   "language": "python",
   "name": "python3"
  },
  "language_info": {
   "codemirror_mode": {
    "name": "ipython",
    "version": 3
   },
   "file_extension": ".py",
   "mimetype": "text/x-python",
   "name": "python",
   "nbconvert_exporter": "python",
   "pygments_lexer": "ipython3",
   "version": "3.9.12"
  },
  "orig_nbformat": 4,
  "vscode": {
   "interpreter": {
    "hash": "5b6002d1e928962cd19dde4287e8a81266a3dfa22c12012df96bb19a6e27b9c0"
   }
  }
 },
 "nbformat": 4,
 "nbformat_minor": 2
}
